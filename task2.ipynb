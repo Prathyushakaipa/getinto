{
  "nbformat": 4,
  "nbformat_minor": 0,
  "metadata": {
    "colab": {
      "name": "task2.ipynb",
      "provenance": []
    },
    "kernelspec": {
      "name": "python3",
      "display_name": "Python 3"
    }
  },
  "cells": [
    {
      "cell_type": "code",
      "metadata": {
        "id": "6WmQ84Iz0JoM",
        "colab_type": "code",
        "colab": {}
      },
      "source": [
        "import requests\n",
        "url='https://api.openweathermap.org/data/2.5/weather?appid=e625f6ad6605071357db348c519522ee&q='\n",
        "while(1):\n",
        "  city=input(\"city_name:\")\n",
        "  my_url=url+city\n",
        "  data=requests.get(my_url).json()\n",
        "  print(\"the weather report:\\n\\n\",data)"
      ],
      "execution_count": 0,
      "outputs": []
    }
  ]
}