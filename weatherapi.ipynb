{
  "nbformat": 4,
  "nbformat_minor": 0,
  "metadata": {
    "colab": {
      "name": "weatherapi.ipynb",
      "provenance": []
    },
    "kernelspec": {
      "name": "python3",
      "display_name": "Python 3"
    }
  },
  "cells": [
    {
      "cell_type": "code",
      "metadata": {
        "id": "6WmQ84Iz0JoM",
        "colab_type": "code",
        "outputId": "fa4dfaaf-d50d-4f28-ab3f-1bb0ebb0ed7b",
        "colab": {
          "base_uri": "https://localhost:8080/",
          "height": 328
        }
      },
      "source": [
        "import requests\n",
        "url='https://api.openweathermap.org/data/2.5/weather?appid=e625f6ad6605071357db348c519522ee&q='\n",
        "while(1):\n",
        "  city=input(\"city_name:\")\n",
        "  my_url=url+city\n",
        "  data=requests.get(my_url).json()\n",
        "  print(\"the weather report:\\n\\n\",data)"
      ],
      "execution_count": 0,
      "outputs": [
        {
          "output_type": "stream",
          "text": [
            "city_name:hyderabad\n",
            "the weather report:\n",
            "\n",
            " {'coord': {'lon': 78.47, 'lat': 17.38}, 'weather': [{'id': 802, 'main': 'Clouds', 'description': 'scattered clouds', 'icon': '03d'}], 'base': 'stations', 'main': {'temp': 308.15, 'feels_like': 311.63, 'temp_min': 308.15, 'temp_max': 308.15, 'pressure': 1013, 'humidity': 56}, 'visibility': 6000, 'wind': {'speed': 4.1, 'deg': 150}, 'clouds': {'all': 40}, 'dt': 1588061256, 'sys': {'type': 1, 'id': 9214, 'country': 'IN', 'sunrise': 1588033299, 'sunset': 1588079116}, 'timezone': 19800, 'id': 1269843, 'name': 'Hyderabad', 'cod': 200}\n",
            "city_name:mumbai\n",
            "the weather report:\n",
            "\n",
            " {'coord': {'lon': 72.85, 'lat': 19.01}, 'weather': [{'id': 800, 'main': 'Clear', 'description': 'clear sky', 'icon': '01d'}], 'base': 'stations', 'main': {'temp': 307.4, 'feels_like': 311.88, 'temp_min': 306.15, 'temp_max': 310.37, 'pressure': 1009, 'humidity': 66}, 'visibility': 6000, 'wind': {'speed': 4.6, 'deg': 270, 'gust': 9.8}, 'clouds': {'all': 0}, 'dt': 1588060880, 'sys': {'type': 1, 'id': 9052, 'country': 'IN', 'sunrise': 1588034535, 'sunset': 1588080578}, 'timezone': 19800, 'id': 1275339, 'name': 'Mumbai', 'cod': 200}\n",
            "city_name:chagalamarri\n",
            "the weather report:\n",
            "\n",
            " {'cod': '404', 'message': 'city not found'}\n",
            "city_name:kurnool\n",
            "the weather report:\n",
            "\n",
            " {'coord': {'lon': 78.04, 'lat': 15.83}, 'weather': [{'id': 804, 'main': 'Clouds', 'description': 'overcast clouds', 'icon': '04d'}], 'base': 'stations', 'main': {'temp': 311.8, 'feels_like': 310.73, 'temp_min': 311.8, 'temp_max': 311.8, 'pressure': 1007, 'humidity': 22, 'sea_level': 1007, 'grnd_level': 977}, 'wind': {'speed': 2.9, 'deg': 142}, 'clouds': {'all': 94}, 'dt': 1588061382, 'sys': {'country': 'IN', 'sunrise': 1588033507, 'sunset': 1588079115}, 'timezone': 19800, 'id': 1279074, 'name': 'Kurnool', 'cod': 200}\n"
          ],
          "name": "stdout"
        }
      ]
    }
  ]
}