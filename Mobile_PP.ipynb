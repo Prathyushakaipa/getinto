{
  "nbformat": 4,
  "nbformat_minor": 0,
  "metadata": {
    "colab": {
      "name": "Mobile PP.ipynb",
      "provenance": []
    },
    "kernelspec": {
      "name": "python3",
      "display_name": "Python 3"
    }
  },
  "cells": [
    {
      "cell_type": "code",
      "metadata": {
        "id": "cQEaqCdJUvi3",
        "colab_type": "code",
        "colab": {}
      },
      "source": [
        "import numpy as np\n",
        "import pandas as pd"
      ],
      "execution_count": 0,
      "outputs": []
    },
    {
      "cell_type": "code",
      "metadata": {
        "id": "r_ma1lE5VRXx",
        "colab_type": "code",
        "colab": {}
      },
      "source": [
        "import warnings\n",
        "warnings.filterwarnings('ignore')"
      ],
      "execution_count": 0,
      "outputs": []
    },
    {
      "cell_type": "code",
      "metadata": {
        "id": "jPkFv6siVWRg",
        "colab_type": "code",
        "colab": {}
      },
      "source": [
        "train=pd.read_csv('/content/drive/My Drive/train_data.csv')\n",
        "test=pd.read_csv('/content/drive/My Drive/test_data.csv')\n",
        "sample_submission = pd.read_csv('/content/drive/My Drive/sample_submission.csv')"
      ],
      "execution_count": 0,
      "outputs": []
    },
    {
      "cell_type": "code",
      "metadata": {
        "id": "_-uNarGXWbaW",
        "colab_type": "code",
        "colab": {}
      },
      "source": [
        "train=train.drop(columns=['id'])\n",
        "test=test.drop(columns=['id'])"
      ],
      "execution_count": 0,
      "outputs": []
    },
    {
      "cell_type": "code",
      "metadata": {
        "id": "SFdW6OmfXC7Z",
        "colab_type": "code",
        "colab": {}
      },
      "source": [
        "X_train=train.drop(columns=['price_range'])\n",
        "y_train=train[['price_range']]\n",
        "X_test=test"
      ],
      "execution_count": 0,
      "outputs": []
    },
    {
      "cell_type": "code",
      "metadata": {
        "id": "sUgyo8vuXH71",
        "colab_type": "code",
        "outputId": "d01cfd67-5c59-4a91-9edb-46b6fd07459f",
        "colab": {
          "base_uri": "https://localhost:8080/",
          "height": 224
        }
      },
      "source": [
        "from sklearn.preprocessing import StandardScaler\n",
        "X_train_scale=StandardScaler().fit_transform(X_train)\n",
        "pd.DataFrame(X_train_scale).head()"
      ],
      "execution_count": 8,
      "outputs": [
        {
          "output_type": "execute_result",
          "data": {
            "text/html": [
              "<div>\n",
              "<style scoped>\n",
              "    .dataframe tbody tr th:only-of-type {\n",
              "        vertical-align: middle;\n",
              "    }\n",
              "\n",
              "    .dataframe tbody tr th {\n",
              "        vertical-align: top;\n",
              "    }\n",
              "\n",
              "    .dataframe thead th {\n",
              "        text-align: right;\n",
              "    }\n",
              "</style>\n",
              "<table border=\"1\" class=\"dataframe\">\n",
              "  <thead>\n",
              "    <tr style=\"text-align: right;\">\n",
              "      <th></th>\n",
              "      <th>0</th>\n",
              "      <th>1</th>\n",
              "      <th>2</th>\n",
              "      <th>3</th>\n",
              "      <th>4</th>\n",
              "      <th>5</th>\n",
              "      <th>6</th>\n",
              "      <th>7</th>\n",
              "      <th>8</th>\n",
              "      <th>9</th>\n",
              "      <th>10</th>\n",
              "      <th>11</th>\n",
              "      <th>12</th>\n",
              "      <th>13</th>\n",
              "      <th>14</th>\n",
              "      <th>15</th>\n",
              "      <th>16</th>\n",
              "      <th>17</th>\n",
              "      <th>18</th>\n",
              "      <th>19</th>\n",
              "    </tr>\n",
              "  </thead>\n",
              "  <tbody>\n",
              "    <tr>\n",
              "      <th>0</th>\n",
              "      <td>-0.976452</td>\n",
              "      <td>1.00143</td>\n",
              "      <td>-1.245224</td>\n",
              "      <td>0.988636</td>\n",
              "      <td>-0.991789</td>\n",
              "      <td>-1.031938</td>\n",
              "      <td>0.266596</td>\n",
              "      <td>-1.052203</td>\n",
              "      <td>-0.371322</td>\n",
              "      <td>-0.247588</td>\n",
              "      <td>-1.624363</td>\n",
              "      <td>-0.911125</td>\n",
              "      <td>-0.971849</td>\n",
              "      <td>0.180472</td>\n",
              "      <td>-1.753980</td>\n",
              "      <td>-0.408538</td>\n",
              "      <td>-1.257549</td>\n",
              "      <td>-1.762263</td>\n",
              "      <td>-1.007169</td>\n",
              "      <td>-1.024588</td>\n",
              "    </tr>\n",
              "    <tr>\n",
              "      <th>1</th>\n",
              "      <td>-0.390618</td>\n",
              "      <td>1.00143</td>\n",
              "      <td>-1.245224</td>\n",
              "      <td>-1.011495</td>\n",
              "      <td>-0.991789</td>\n",
              "      <td>0.969050</td>\n",
              "      <td>-0.996928</td>\n",
              "      <td>0.671913</td>\n",
              "      <td>-1.446330</td>\n",
              "      <td>-1.125115</td>\n",
              "      <td>-1.293608</td>\n",
              "      <td>-1.038609</td>\n",
              "      <td>-0.740549</td>\n",
              "      <td>0.878873</td>\n",
              "      <td>-0.551683</td>\n",
              "      <td>-1.094333</td>\n",
              "      <td>1.267598</td>\n",
              "      <td>0.567452</td>\n",
              "      <td>-1.007169</td>\n",
              "      <td>0.976002</td>\n",
              "    </tr>\n",
              "    <tr>\n",
              "      <th>2</th>\n",
              "      <td>-0.149926</td>\n",
              "      <td>1.00143</td>\n",
              "      <td>0.211077</td>\n",
              "      <td>0.988636</td>\n",
              "      <td>-0.521189</td>\n",
              "      <td>-1.031938</td>\n",
              "      <td>-0.722249</td>\n",
              "      <td>-0.707380</td>\n",
              "      <td>0.760265</td>\n",
              "      <td>1.068703</td>\n",
              "      <td>1.517813</td>\n",
              "      <td>-0.904415</td>\n",
              "      <td>-1.144740</td>\n",
              "      <td>-1.711378</td>\n",
              "      <td>-1.513521</td>\n",
              "      <td>-0.179940</td>\n",
              "      <td>-0.536078</td>\n",
              "      <td>-1.762263</td>\n",
              "      <td>-1.007169</td>\n",
              "      <td>-1.024588</td>\n",
              "    </tr>\n",
              "    <tr>\n",
              "      <th>3</th>\n",
              "      <td>-1.426045</td>\n",
              "      <td>1.00143</td>\n",
              "      <td>1.788737</td>\n",
              "      <td>-1.011495</td>\n",
              "      <td>2.537708</td>\n",
              "      <td>0.969050</td>\n",
              "      <td>0.651147</td>\n",
              "      <td>-0.707380</td>\n",
              "      <td>-0.654219</td>\n",
              "      <td>-1.563879</td>\n",
              "      <td>1.021680</td>\n",
              "      <td>-1.329363</td>\n",
              "      <td>0.018769</td>\n",
              "      <td>0.421554</td>\n",
              "      <td>0.650615</td>\n",
              "      <td>1.191650</td>\n",
              "      <td>0.726495</td>\n",
              "      <td>0.567452</td>\n",
              "      <td>-1.007169</td>\n",
              "      <td>0.976002</td>\n",
              "    </tr>\n",
              "    <tr>\n",
              "      <th>4</th>\n",
              "      <td>-0.099971</td>\n",
              "      <td>1.00143</td>\n",
              "      <td>0.939228</td>\n",
              "      <td>-1.011495</td>\n",
              "      <td>0.655310</td>\n",
              "      <td>-1.031938</td>\n",
              "      <td>-0.667313</td>\n",
              "      <td>1.706382</td>\n",
              "      <td>0.505658</td>\n",
              "      <td>1.068703</td>\n",
              "      <td>0.525547</td>\n",
              "      <td>1.766046</td>\n",
              "      <td>1.539742</td>\n",
              "      <td>-0.151706</td>\n",
              "      <td>-1.273061</td>\n",
              "      <td>-0.179940</td>\n",
              "      <td>-1.618284</td>\n",
              "      <td>0.567452</td>\n",
              "      <td>-1.007169</td>\n",
              "      <td>-1.024588</td>\n",
              "    </tr>\n",
              "  </tbody>\n",
              "</table>\n",
              "</div>"
            ],
            "text/plain": [
              "         0        1         2   ...        17        18        19\n",
              "0 -0.976452  1.00143 -1.245224  ... -1.762263 -1.007169 -1.024588\n",
              "1 -0.390618  1.00143 -1.245224  ...  0.567452 -1.007169  0.976002\n",
              "2 -0.149926  1.00143  0.211077  ... -1.762263 -1.007169 -1.024588\n",
              "3 -1.426045  1.00143  1.788737  ...  0.567452 -1.007169  0.976002\n",
              "4 -0.099971  1.00143  0.939228  ...  0.567452 -1.007169 -1.024588\n",
              "\n",
              "[5 rows x 20 columns]"
            ]
          },
          "metadata": {
            "tags": []
          },
          "execution_count": 8
        }
      ]
    },
    {
      "cell_type": "markdown",
      "metadata": {
        "id": "2E0_p-pkmxjT",
        "colab_type": "text"
      },
      "source": [
        "#Logistic Regression"
      ]
    },
    {
      "cell_type": "code",
      "metadata": {
        "id": "jkkx4MUoXMnp",
        "colab_type": "code",
        "colab": {}
      },
      "source": [
        "from sklearn.linear_model import LogisticRegression"
      ],
      "execution_count": 0,
      "outputs": []
    },
    {
      "cell_type": "code",
      "metadata": {
        "id": "SnPLH02QXkQh",
        "colab_type": "code",
        "outputId": "c9209a55-40e7-4925-d681-4cb0e1c22ed6",
        "colab": {
          "base_uri": "https://localhost:8080/",
          "height": 51
        }
      },
      "source": [
        "from sklearn.model_selection import GridSearchCV\n",
        "grid = {\"C\" : np.logspace(-3,3,7),\"penalty\" : [\"l1\",\"l2\"]} #c = 1/ alpha\n",
        "score = GridSearchCV(LogisticRegression(),grid).fit(X_train,y_train)\n",
        "\n",
        "\n",
        "print(score.best_params_)\n",
        "print(score.best_score_)"
      ],
      "execution_count": 11,
      "outputs": [
        {
          "output_type": "stream",
          "text": [
            "{'C': 0.1, 'penalty': 'l2'}\n",
            "0.6421428571428571\n"
          ],
          "name": "stdout"
        }
      ]
    },
    {
      "cell_type": "code",
      "metadata": {
        "id": "YexmfsR7X5R3",
        "colab_type": "code",
        "colab": {}
      },
      "source": [
        "lr = LogisticRegression(C=0.1,penalty = \"l2\", random_state=0) \n",
        "lr = lr.fit(X_train, y_train)\n",
        "y_pred = lr.predict(X_test)"
      ],
      "execution_count": 0,
      "outputs": []
    },
    {
      "cell_type": "code",
      "metadata": {
        "id": "2Sw9cnwcYWwt",
        "colab_type": "code",
        "outputId": "db06c468-8b08-4526-e6f3-83fd33447a59",
        "colab": {
          "base_uri": "https://localhost:8080/",
          "height": 204
        }
      },
      "source": [
        "from sklearn.metrics import classification_report\n",
        "print(classification_report(y_pred,sample_submission['price_range']))"
      ],
      "execution_count": 13,
      "outputs": [
        {
          "output_type": "stream",
          "text": [
            "              precision    recall  f1-score   support\n",
            "\n",
            "           0       0.20      0.23      0.21       144\n",
            "           1       0.26      0.23      0.24       145\n",
            "           2       0.27      0.26      0.26       145\n",
            "           3       0.23      0.23      0.23       166\n",
            "\n",
            "    accuracy                           0.24       600\n",
            "   macro avg       0.24      0.24      0.24       600\n",
            "weighted avg       0.24      0.24      0.24       600\n",
            "\n"
          ],
          "name": "stdout"
        }
      ]
    },
    {
      "cell_type": "code",
      "metadata": {
        "id": "RWpx_eUwYXRN",
        "colab_type": "code",
        "outputId": "3fde248e-b3d5-4088-b7bd-165f6b8f5a94",
        "colab": {
          "base_uri": "https://localhost:8080/",
          "height": 51
        }
      },
      "source": [
        "from sklearn.model_selection import cross_val_score\n",
        "\n",
        "scores = cross_val_score(LogisticRegression(),X_train,y_train,cv=5)\n",
        "print(scores)\n",
        "print(scores.mean()) "
      ],
      "execution_count": 14,
      "outputs": [
        {
          "output_type": "stream",
          "text": [
            "[0.65357143 0.62857143 0.64642857 0.65       0.63214286]\n",
            "0.6421428571428571\n"
          ],
          "name": "stdout"
        }
      ]
    },
    {
      "cell_type": "markdown",
      "metadata": {
        "id": "xq7IUcB5mtBN",
        "colab_type": "text"
      },
      "source": [
        "#SVM"
      ]
    },
    {
      "cell_type": "code",
      "metadata": {
        "id": "fOPHyGAUYjc1",
        "colab_type": "code",
        "colab": {}
      },
      "source": [
        "from sklearn.svm import SVC"
      ],
      "execution_count": 0,
      "outputs": []
    },
    {
      "cell_type": "code",
      "metadata": {
        "id": "zHAqMzv-YpgX",
        "colab_type": "code",
        "colab": {
          "base_uri": "https://localhost:8080/",
          "height": 51
        },
        "outputId": "b19f7258-282a-4188-8aa8-781d90ae6ba2"
      },
      "source": [
        "from sklearn.model_selection import GridSearchCV\n",
        "grid = { \"C\" : np.logspace(-3,3,7) , \"gamma\" : [\"scale\", \"auto\"]  } \n",
        "score = GridSearchCV(SVC(),grid).fit(X_train,y_train)\n",
        "\n",
        "\n",
        "print(score.best_params_)\n",
        "print(score.best_score_)"
      ],
      "execution_count": 25,
      "outputs": [
        {
          "output_type": "stream",
          "text": [
            "{'C': 1000.0, 'gamma': 'scale'}\n",
            "0.9650000000000001\n"
          ],
          "name": "stdout"
        }
      ]
    },
    {
      "cell_type": "code",
      "metadata": {
        "id": "qAMQtmOhaFYS",
        "colab_type": "code",
        "colab": {}
      },
      "source": [
        "svm = SVC(C=1000.0, kernel='linear',gamma = 'scale', random_state=0)\n",
        "svm = svm.fit(X_train, y_train)\n",
        "y_pred = svm.predict(X_test)\n"
      ],
      "execution_count": 0,
      "outputs": []
    },
    {
      "cell_type": "code",
      "metadata": {
        "id": "Knj1rvYyb7I2",
        "colab_type": "code",
        "outputId": "4dd07d2c-a85f-4d6d-db8d-1b5a5e770055",
        "colab": {
          "base_uri": "https://localhost:8080/",
          "height": 204
        }
      },
      "source": [
        "from sklearn.metrics import classification_report\n",
        "print(classification_report(y_pred,sample_submission['price_range']))"
      ],
      "execution_count": 18,
      "outputs": [
        {
          "output_type": "stream",
          "text": [
            "              precision    recall  f1-score   support\n",
            "\n",
            "           0       0.22      0.24      0.23       150\n",
            "           1       0.22      0.19      0.21       149\n",
            "           2       0.28      0.25      0.26       154\n",
            "           3       0.26      0.30      0.28       147\n",
            "\n",
            "    accuracy                           0.24       600\n",
            "   macro avg       0.24      0.25      0.24       600\n",
            "weighted avg       0.25      0.24      0.24       600\n",
            "\n"
          ],
          "name": "stdout"
        }
      ]
    },
    {
      "cell_type": "code",
      "metadata": {
        "id": "AToXjOwzb807",
        "colab_type": "code",
        "outputId": "1a6e84c7-e3c1-4e2d-bbee-5dc1836fd6c9",
        "colab": {
          "base_uri": "https://localhost:8080/",
          "height": 51
        }
      },
      "source": [
        "from sklearn.model_selection import cross_val_score\n",
        "\n",
        "scores = cross_val_score(SVC(),X_train,y_train,cv=5)\n",
        "print(scores)\n",
        "print(scores.mean()) "
      ],
      "execution_count": 19,
      "outputs": [
        {
          "output_type": "stream",
          "text": [
            "[0.95       0.92142857 0.95357143 0.925      0.94285714]\n",
            "0.9385714285714286\n"
          ],
          "name": "stdout"
        }
      ]
    },
    {
      "cell_type": "code",
      "metadata": {
        "id": "v9FW_PNCcHbG",
        "colab_type": "code",
        "colab": {}
      },
      "source": [
        "data = {'id' : sample_submission['id'],\n",
        "        'price_range' : y_pred}\n",
        "result = pd.DataFrame(data)\n",
        "result.to_csv('/content/drive/My Drive/result_svm3.csv',index=False) "
      ],
      "execution_count": 0,
      "outputs": []
    },
    {
      "cell_type": "markdown",
      "metadata": {
        "id": "bD-DGx52mi68",
        "colab_type": "text"
      },
      "source": [
        "#Random Forest Classifier\n"
      ]
    },
    {
      "cell_type": "code",
      "metadata": {
        "id": "cy3kYobterPM",
        "colab_type": "code",
        "colab": {}
      },
      "source": [
        "from sklearn.ensemble import RandomForestClassifier"
      ],
      "execution_count": 0,
      "outputs": []
    },
    {
      "cell_type": "code",
      "metadata": {
        "id": "Sy_VqB5hes_y",
        "colab_type": "code",
        "outputId": "9eacf0ec-185a-4722-dbe5-66e7c45467f1",
        "colab": {
          "base_uri": "https://localhost:8080/",
          "height": 51
        }
      },
      "source": [
        "from sklearn.model_selection import GridSearchCV\n",
        "grid = {\"n_estimators\" : np.linspace(10,100,10).astype(np.int64),\"criterion\" : [\"gini\",\"entropy\"]} \n",
        "score = GridSearchCV(RandomForestClassifier(),grid).fit(X_train,y_train)\n",
        "\n",
        "\n",
        "print(score.best_params_)\n",
        "print(score.best_score_)"
      ],
      "execution_count": 0,
      "outputs": [
        {
          "output_type": "stream",
          "text": [
            "{'criterion': 'entropy', 'n_estimators': 100}\n",
            "0.865\n"
          ],
          "name": "stdout"
        }
      ]
    },
    {
      "cell_type": "code",
      "metadata": {
        "id": "PHc8ck0De5tt",
        "colab_type": "code",
        "colab": {}
      },
      "source": [
        "forest = RandomForestClassifier(criterion='entropy',\n",
        "                                n_estimators=100,\n",
        "                                random_state=0)\n",
        "\n",
        "forest = forest.fit(X_train, y_train)\n",
        "y_pred = forest.predict(X_test)"
      ],
      "execution_count": 0,
      "outputs": []
    },
    {
      "cell_type": "code",
      "metadata": {
        "id": "yh7bAnRTfEh3",
        "colab_type": "code",
        "outputId": "6c14dab4-80bc-44fa-a143-fc4fe3bba94c",
        "colab": {
          "base_uri": "https://localhost:8080/",
          "height": 51
        }
      },
      "source": [
        "from sklearn.model_selection import cross_val_score\n",
        "\n",
        "scores = cross_val_score(RandomForestClassifier(),X_train,y_train,cv=5)\n",
        "print(scores)\n",
        "print(scores.mean()) "
      ],
      "execution_count": 23,
      "outputs": [
        {
          "output_type": "stream",
          "text": [
            "[0.875      0.825      0.88571429 0.86071429 0.86428571]\n",
            "0.862142857142857\n"
          ],
          "name": "stdout"
        }
      ]
    },
    {
      "cell_type": "markdown",
      "metadata": {
        "id": "22KstFxzm9eR",
        "colab_type": "text"
      },
      "source": [
        "#KNN"
      ]
    },
    {
      "cell_type": "code",
      "metadata": {
        "id": "IZtvtCI6mbsS",
        "colab_type": "code",
        "colab": {}
      },
      "source": [
        "from sklearn.neighbors import KNeighborsClassifier"
      ],
      "execution_count": 0,
      "outputs": []
    },
    {
      "cell_type": "code",
      "metadata": {
        "id": "3Lo2LtTropXU",
        "colab_type": "code",
        "colab": {
          "base_uri": "https://localhost:8080/",
          "height": 51
        },
        "outputId": "10a2baf5-479e-466c-9f11-c922666b736d"
      },
      "source": [
        "from sklearn.model_selection import GridSearchCV\n",
        "grid = {\"metric\" : [\"minkowski\",\"manhattan\",\"euclidean\"]} \n",
        "score = GridSearchCV(KNeighborsClassifier(),grid).fit(X_train,y_train)\n",
        "\n",
        "\n",
        "print(score.best_params_)\n",
        "print(score.best_score_)"
      ],
      "execution_count": 37,
      "outputs": [
        {
          "output_type": "stream",
          "text": [
            "{'metric': 'minkowski'}\n",
            "0.9071428571428571\n"
          ],
          "name": "stdout"
        }
      ]
    },
    {
      "cell_type": "code",
      "metadata": {
        "id": "0UlWQqlWps-V",
        "colab_type": "code",
        "colab": {}
      },
      "source": [
        "knn = KNeighborsClassifier(n_neighbors=5, metric = 'minkowski',p=2, algorithm = 'auto')\n",
        "knn = knn.fit(X_train, y_train)\n",
        "y_pred = knn.predict(X_test)"
      ],
      "execution_count": 0,
      "outputs": []
    },
    {
      "cell_type": "code",
      "metadata": {
        "id": "DyWJO8pOqZik",
        "colab_type": "code",
        "colab": {
          "base_uri": "https://localhost:8080/",
          "height": 204
        },
        "outputId": "66bae0fb-8e71-4e60-9f09-781946b48610"
      },
      "source": [
        "from sklearn.metrics import classification_report\n",
        "print(classification_report(y_pred,sample_submission['price_range']))"
      ],
      "execution_count": 34,
      "outputs": [
        {
          "output_type": "stream",
          "text": [
            "              precision    recall  f1-score   support\n",
            "\n",
            "           0       0.22      0.24      0.23       151\n",
            "           1       0.23      0.20      0.22       150\n",
            "           2       0.25      0.23      0.24       151\n",
            "           3       0.25      0.28      0.26       148\n",
            "\n",
            "    accuracy                           0.24       600\n",
            "   macro avg       0.24      0.24      0.24       600\n",
            "weighted avg       0.24      0.24      0.24       600\n",
            "\n"
          ],
          "name": "stdout"
        }
      ]
    },
    {
      "cell_type": "code",
      "metadata": {
        "id": "0VwrTO7rqldw",
        "colab_type": "code",
        "colab": {
          "base_uri": "https://localhost:8080/",
          "height": 51
        },
        "outputId": "24b9cf89-d356-42d0-e293-56c04197dfb3"
      },
      "source": [
        "from sklearn.model_selection import cross_val_score\n",
        "\n",
        "scores = cross_val_score(KNeighborsClassifier(),X_train,y_train,cv=5)\n",
        "print(scores)\n",
        "print(scores.mean()) "
      ],
      "execution_count": 35,
      "outputs": [
        {
          "output_type": "stream",
          "text": [
            "[0.90357143 0.925      0.91071429 0.88571429 0.91071429]\n",
            "0.9071428571428571\n"
          ],
          "name": "stdout"
        }
      ]
    },
    {
      "cell_type": "code",
      "metadata": {
        "id": "0uSgVCQOqvdz",
        "colab_type": "code",
        "colab": {}
      },
      "source": [
        "data = {'id' : sample_submission['id'],\n",
        "        'price_range' : y_pred}\n",
        "result = pd.DataFrame(data)\n",
        "result.to_csv('/content/drive/My Drive/result_KNN.csv',index=False) "
      ],
      "execution_count": 0,
      "outputs": []
    }
  ]
}